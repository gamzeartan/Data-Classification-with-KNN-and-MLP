{
 "cells": [
  {
   "cell_type": "code",
   "execution_count": 37,
   "metadata": {},
   "outputs": [],
   "source": [
    "import numpy as np\n",
    "import pandas as pd\n",
    "import statsmodels.api as sm\n",
    "import seaborn as sns\n",
    "import matplotlib.pyplot as plt\n",
    "from sklearn.preprocessing import scale\n",
    "from sklearn.preprocessing import StandardScaler\n",
    "from sklearn.model_selection import train_test_split\n",
    "from sklearn.model_selection import GridSearchCV\n",
    "from sklearn.metrics import confusion_matrix\n",
    "from sklearn.metrics import accuracy_score\n",
    "from sklearn.metrics import classification_report\n",
    "from sklearn import neighbors\n",
    "from sklearn.neighbors import KNeighborsClassifier\n",
    "from sklearn.neural_network import MLPClassifier\n",
    "from warnings import filterwarnings\n",
    "filterwarnings(\"ignore\")\n"
   ]
  },
  {
   "cell_type": "code",
   "execution_count": 38,
   "metadata": {},
   "outputs": [],
   "source": [
    "data = pd.read_csv(\"C:/Users/gamze/OneDrive/Masaüstü/magic04.csv\", \n",
    "names=['fLength','fWidth','fSize','fConc','fConc1','fAsym','fM3Long','fM3Trans','fAlpha','fDist','class'])"
   ]
  },
  {
   "cell_type": "code",
   "execution_count": 39,
   "metadata": {},
   "outputs": [
    {
     "data": {
      "text/html": [
       "<div>\n",
       "<style scoped>\n",
       "    .dataframe tbody tr th:only-of-type {\n",
       "        vertical-align: middle;\n",
       "    }\n",
       "\n",
       "    .dataframe tbody tr th {\n",
       "        vertical-align: top;\n",
       "    }\n",
       "\n",
       "    .dataframe thead th {\n",
       "        text-align: right;\n",
       "    }\n",
       "</style>\n",
       "<table border=\"1\" class=\"dataframe\">\n",
       "  <thead>\n",
       "    <tr style=\"text-align: right;\">\n",
       "      <th></th>\n",
       "      <th>fLength</th>\n",
       "      <th>fWidth</th>\n",
       "      <th>fSize</th>\n",
       "      <th>fConc</th>\n",
       "      <th>fConc1</th>\n",
       "      <th>fAsym</th>\n",
       "      <th>fM3Long</th>\n",
       "      <th>fM3Trans</th>\n",
       "      <th>fAlpha</th>\n",
       "      <th>fDist</th>\n",
       "      <th>class</th>\n",
       "    </tr>\n",
       "  </thead>\n",
       "  <tbody>\n",
       "    <tr>\n",
       "      <th>0</th>\n",
       "      <td>28.7967</td>\n",
       "      <td>16.0021</td>\n",
       "      <td>2.6449</td>\n",
       "      <td>0.3918</td>\n",
       "      <td>0.1982</td>\n",
       "      <td>27.7004</td>\n",
       "      <td>22.0110</td>\n",
       "      <td>-8.2027</td>\n",
       "      <td>40.0920</td>\n",
       "      <td>81.8828</td>\n",
       "      <td>g</td>\n",
       "    </tr>\n",
       "    <tr>\n",
       "      <th>1</th>\n",
       "      <td>31.6036</td>\n",
       "      <td>11.7235</td>\n",
       "      <td>2.5185</td>\n",
       "      <td>0.5303</td>\n",
       "      <td>0.3773</td>\n",
       "      <td>26.2722</td>\n",
       "      <td>23.8238</td>\n",
       "      <td>-9.9574</td>\n",
       "      <td>6.3609</td>\n",
       "      <td>205.2610</td>\n",
       "      <td>g</td>\n",
       "    </tr>\n",
       "    <tr>\n",
       "      <th>2</th>\n",
       "      <td>162.0520</td>\n",
       "      <td>136.0310</td>\n",
       "      <td>4.0612</td>\n",
       "      <td>0.0374</td>\n",
       "      <td>0.0187</td>\n",
       "      <td>116.7410</td>\n",
       "      <td>-64.8580</td>\n",
       "      <td>-45.2160</td>\n",
       "      <td>76.9600</td>\n",
       "      <td>256.7880</td>\n",
       "      <td>g</td>\n",
       "    </tr>\n",
       "    <tr>\n",
       "      <th>3</th>\n",
       "      <td>23.8172</td>\n",
       "      <td>9.5728</td>\n",
       "      <td>2.3385</td>\n",
       "      <td>0.6147</td>\n",
       "      <td>0.3922</td>\n",
       "      <td>27.2107</td>\n",
       "      <td>-6.4633</td>\n",
       "      <td>-7.1513</td>\n",
       "      <td>10.4490</td>\n",
       "      <td>116.7370</td>\n",
       "      <td>g</td>\n",
       "    </tr>\n",
       "    <tr>\n",
       "      <th>4</th>\n",
       "      <td>75.1362</td>\n",
       "      <td>30.9205</td>\n",
       "      <td>3.1611</td>\n",
       "      <td>0.3168</td>\n",
       "      <td>0.1832</td>\n",
       "      <td>-5.5277</td>\n",
       "      <td>28.5525</td>\n",
       "      <td>21.8393</td>\n",
       "      <td>4.6480</td>\n",
       "      <td>356.4620</td>\n",
       "      <td>g</td>\n",
       "    </tr>\n",
       "  </tbody>\n",
       "</table>\n",
       "</div>"
      ],
      "text/plain": [
       "    fLength    fWidth   fSize   fConc  fConc1     fAsym  fM3Long  fM3Trans  \\\n",
       "0   28.7967   16.0021  2.6449  0.3918  0.1982   27.7004  22.0110   -8.2027   \n",
       "1   31.6036   11.7235  2.5185  0.5303  0.3773   26.2722  23.8238   -9.9574   \n",
       "2  162.0520  136.0310  4.0612  0.0374  0.0187  116.7410 -64.8580  -45.2160   \n",
       "3   23.8172    9.5728  2.3385  0.6147  0.3922   27.2107  -6.4633   -7.1513   \n",
       "4   75.1362   30.9205  3.1611  0.3168  0.1832   -5.5277  28.5525   21.8393   \n",
       "\n",
       "    fAlpha     fDist class  \n",
       "0  40.0920   81.8828     g  \n",
       "1   6.3609  205.2610     g  \n",
       "2  76.9600  256.7880     g  \n",
       "3  10.4490  116.7370     g  \n",
       "4   4.6480  356.4620     g  "
      ]
     },
     "execution_count": 39,
     "metadata": {},
     "output_type": "execute_result"
    }
   ],
   "source": [
    "data.head()"
   ]
  },
  {
   "cell_type": "code",
   "execution_count": 40,
   "metadata": {},
   "outputs": [
    {
     "data": {
      "text/plain": [
       "(19020, 11)"
      ]
     },
     "execution_count": 40,
     "metadata": {},
     "output_type": "execute_result"
    }
   ],
   "source": [
    "data.shape"
   ]
  },
  {
   "cell_type": "code",
   "execution_count": 41,
   "metadata": {},
   "outputs": [],
   "source": [
    "features = data.iloc[:,:10].values\n",
    "labels = data.iloc[:,10]\n",
    "mapping = {'h': 0, 'g': 1}\n",
    "labels = labels.replace(mapping)\n",
    "labels = labels.values.flatten()"
   ]
  },
  {
   "cell_type": "code",
   "execution_count": 42,
   "metadata": {},
   "outputs": [
    {
     "name": "stdout",
     "output_type": "stream",
     "text": [
      "Percentage of 0 (hadron)= 35.16298633017876 %\n",
      "Percentage of 1 (gamma) = 64.83701366982125 %\n"
     ]
    }
   ],
   "source": [
    "count = np.bincount(labels)\n",
    "perc = count / len(labels)\n",
    "print(\"Percentage of 0 (hadron)=\",perc[0]*100,\"%\")\n",
    "print(\"Percentage of 1 (gamma) =\",perc[1]*100,\"%\")"
   ]
  },
  {
   "cell_type": "code",
   "execution_count": 43,
   "metadata": {},
   "outputs": [
    {
     "name": "stdout",
     "output_type": "stream",
     "text": [
      "g    12332\n",
      "h     6688\n",
      "Name: class, dtype: int64\n"
     ]
    },
    {
     "data": {
      "text/plain": [
       "<matplotlib.axes._subplots.AxesSubplot at 0x2868be81f08>"
      ]
     },
     "execution_count": 43,
     "metadata": {},
     "output_type": "execute_result"
    },
    {
     "data": {
      "image/png": "[encoded data removed]",
      "text/plain": [
       "<Figure size 432x288 with 1 Axes>"
      ]
     },
     "metadata": {
      "needs_background": "light"
     },
     "output_type": "display_data"
    }
   ],
   "source": [
    "print(data[\"class\"].value_counts())\n",
    "data[\"class\"].value_counts().plot.barh()"
   ]
  },
  {
   "cell_type": "code",
   "execution_count": 44,
   "metadata": {},
   "outputs": [],
   "source": [
    "x_train, x_test, y_train, y_test = train_test_split(features,labels, test_size = 0.2,shuffle=True,stratify=labels,\n",
    "                                                    random_state=42 )"
   ]
  },
  {
   "cell_type": "code",
   "execution_count": 45,
   "metadata": {},
   "outputs": [],
   "source": [
    "scaler= StandardScaler()\n",
    "scaler.fit(x_train)\n",
    "x_train= scaler.transform(x_train)\n",
    "scaler.fit(x_test)\n",
    "x_test= scaler.transform(x_test)"
   ]
  },
  {
   "cell_type": "code",
   "execution_count": 46,
   "metadata": {},
   "outputs": [
    {
     "data": {
      "text/plain": [
       "KNeighborsClassifier(algorithm='auto', leaf_size=30, metric='minkowski',\n",
       "                     metric_params=None, n_jobs=None, n_neighbors=5, p=2,\n",
       "                     weights='uniform')"
      ]
     },
     "execution_count": 46,
     "metadata": {},
     "output_type": "execute_result"
    }
   ],
   "source": [
    "#k-nearest neigbour classifier\n",
    "knn=KNeighborsClassifier()\n",
    "knn_model=knn.fit(x_train,y_train)\n",
    "knn_model\n"
   ]
  },
  {
   "cell_type": "code",
   "execution_count": 47,
   "metadata": {},
   "outputs": [
    {
     "name": "stdout",
     "output_type": "stream",
     "text": [
      "k-nearest neigbour accuracy:  0.832018927444795\n"
     ]
    }
   ],
   "source": [
    "y_pred=knn_model.predict(x_test)\n",
    "accuracy_score(y_test,y_pred)\n",
    "print(\"k-nearest neigbour accuracy: \",accuracy_score(y_test, y_pred))"
   ]
  },
  {
   "cell_type": "code",
   "execution_count": 48,
   "metadata": {},
   "outputs": [
    {
     "name": "stdout",
     "output_type": "stream",
     "text": [
      "Fitting 10 folds for each of 76 candidates, totalling 760 fits\n"
     ]
    },
    {
     "name": "stderr",
     "output_type": "stream",
     "text": [
      "[Parallel(n_jobs=-1)]: Using backend LokyBackend with 4 concurrent workers.\n",
      "[Parallel(n_jobs=-1)]: Done  42 tasks      | elapsed:    4.9s\n",
      "[Parallel(n_jobs=-1)]: Done 192 tasks      | elapsed:   18.3s\n",
      "[Parallel(n_jobs=-1)]: Done 442 tasks      | elapsed:   46.6s\n"
     ]
    },
    {
     "name": "stdout",
     "output_type": "stream",
     "text": [
      "k-nearest neighbour best parameters:  {'metric': 'euclidean', 'n_neighbors': 14, 'weights': 'distance'}\n"
     ]
    },
    {
     "name": "stderr",
     "output_type": "stream",
     "text": [
      "[Parallel(n_jobs=-1)]: Done 760 out of 760 | elapsed:  1.7min finished\n"
     ]
    }
   ],
   "source": [
    "#k-nearest neigbour classifier find the best parameters\n",
    "\n",
    "knn_params = {'n_neighbors': np.arange(1,20),\n",
    "              'weights': ['uniform','distance'],\n",
    "              'metric':['euclidean','manhattan']\n",
    "              }\n",
    "knn=KNeighborsClassifier()\n",
    "gs=GridSearchCV(KNeighborsClassifier(), knn_params, verbose=1, cv=10, n_jobs=-1)\n",
    "gs_results = gs.fit(x_train,y_train)\n",
    "\n",
    "print(\"k-nearest neighbour best parameters: \",gs_results.best_params_)"
   ]
  },
  {
   "cell_type": "code",
   "execution_count": 49,
   "metadata": {},
   "outputs": [
    {
     "name": "stdout",
     "output_type": "stream",
     "text": [
      "Knn confusion matrix:\n",
      "[[ 848  490]\n",
      " [ 101 2365]]\n",
      "Knn tuned accuracy:  0.8446372239747634\n",
      "Knn classification report:\n",
      "              precision    recall  f1-score   support\n",
      "\n",
      "           0       0.89      0.63      0.74      1338\n",
      "           1       0.83      0.96      0.89      2466\n",
      "\n",
      "    accuracy                           0.84      3804\n",
      "   macro avg       0.86      0.80      0.82      3804\n",
      "weighted avg       0.85      0.84      0.84      3804\n",
      "\n"
     ]
    }
   ],
   "source": [
    "#k-nearest - model tuning\n",
    "knn_tuned=KNeighborsClassifier(n_neighbors=14, metric='euclidean', weights='distance')\n",
    "knn_tuned.fit(x_train,y_train)\n",
    "y_pred=knn_tuned.predict(x_test)\n",
    "confusionmatrix = confusion_matrix(y_test, y_pred)\n",
    "print(\"Knn confusion matrix:\")\n",
    "print(confusionmatrix)\n",
    "dogruluk= accuracy_score(y_test,y_pred)\n",
    "print(\"Knn tuned accuracy: \", dogruluk)\n",
    "print(\"Knn classification report:\")\n",
    "print(classification_report(y_test,y_pred))"
   ]
  },
  {
   "cell_type": "code",
   "execution_count": 57,
   "metadata": {},
   "outputs": [
    {
     "data": {
      "text/plain": [
       "MLPClassifier(activation='relu', alpha=0.0001, batch_size='auto', beta_1=0.9,\n",
       "              beta_2=0.999, early_stopping=False, epsilon=1e-08,\n",
       "              hidden_layer_sizes=(100,), learning_rate='constant',\n",
       "              learning_rate_init=0.001, max_fun=15000, max_iter=200,\n",
       "              momentum=0.9, n_iter_no_change=10, nesterovs_momentum=True,\n",
       "              power_t=0.5, random_state=None, shuffle=True, solver='adam',\n",
       "              tol=0.0001, validation_fraction=0.1, verbose=False,\n",
       "              warm_start=False)"
      ]
     },
     "execution_count": 57,
     "metadata": {},
     "output_type": "execute_result"
    }
   ],
   "source": [
    "#Multilayer perceptron classifier\n",
    "mlp= MLPClassifier()\n",
    "mlp_model= mlp.fit(x_train,y_train)\n",
    "#print(mlp_model.coefs_)\n",
    "mlp_model"
   ]
  },
  {
   "cell_type": "code",
   "execution_count": 82,
   "metadata": {},
   "outputs": [
    {
     "name": "stdout",
     "output_type": "stream",
     "text": [
      "Multilayer perceptron accuracy: 0.8772344900105152\n"
     ]
    }
   ],
   "source": [
    "y_pred= mlp_model.predict(x_test)\n",
    "mlp_accuracy= accuracy_score(y_test,y_pred)\n",
    "print(\"Multilayer perceptron accuracy:\",mlp_accuracy)"
   ]
  },
  {
   "cell_type": "code",
   "execution_count": 59,
   "metadata": {},
   "outputs": [
    {
     "name": "stdout",
     "output_type": "stream",
     "text": [
      "Fitting 10 folds for each of 28 candidates, totalling 280 fits\n"
     ]
    },
    {
     "name": "stderr",
     "output_type": "stream",
     "text": [
      "[Parallel(n_jobs=-1)]: Using backend LokyBackend with 4 concurrent workers.\n",
      "[Parallel(n_jobs=-1)]: Done  33 tasks      | elapsed:  5.2min\n",
      "[Parallel(n_jobs=-1)]: Done 154 tasks      | elapsed: 22.0min\n",
      "[Parallel(n_jobs=-1)]: Done 280 out of 280 | elapsed: 41.2min finished\n"
     ]
    },
    {
     "name": "stdout",
     "output_type": "stream",
     "text": [
      "GridSearchCV(cv=10, error_score=nan,\n",
      "             estimator=MLPClassifier(activation='logistic', alpha=0.0001,\n",
      "                                     batch_size='auto', beta_1=0.9,\n",
      "                                     beta_2=0.999, early_stopping=False,\n",
      "                                     epsilon=1e-08, hidden_layer_sizes=(100,),\n",
      "                                     learning_rate='constant',\n",
      "                                     learning_rate_init=0.001, max_fun=15000,\n",
      "                                     max_iter=200, momentum=0.9,\n",
      "                                     n_iter_no_change=10,\n",
      "                                     nesterovs_momentum=True, power_t=0.5,\n",
      "                                     random_state=None, shuffle=True,\n",
      "                                     solver='lbfgs', tol=0.0001,\n",
      "                                     validation_fraction=0.1, verbose=False,\n",
      "                                     warm_start=False),\n",
      "             iid='deprecated', n_jobs=-1,\n",
      "             param_grid={'alpha': [1, 5, 0.1, 0.01, 0.03, 0.005, 0.0001],\n",
      "                         'hidden_layer_sizes': [(10, 10), (100, 100, 100),\n",
      "                                                (100, 100), (3, 5)]},\n",
      "             pre_dispatch='2*n_jobs', refit=True, return_train_score=False,\n",
      "             scoring=None, verbose=2)\n",
      "{'alpha': 0.03, 'hidden_layer_sizes': (10, 10)}\n"
     ]
    }
   ],
   "source": [
    "#Multilayer perceptron classifier find the best parameters\n",
    "mlp_params= {\"alpha\": [1,5,0.1,0.01,0.03,0.005,0.0001],\n",
    "             \"hidden_layer_sizes\": [(10,10),(100,100,100),(100,100),(3,5)]}\n",
    "\n",
    "mlp= MLPClassifier(solver=\"lbfgs\",activation=\"logistic\")\n",
    "gs= GridSearchCV(mlp,\n",
    "                 mlp_params,\n",
    "                 cv=10,\n",
    "                 n_jobs=-1,\n",
    "                 verbose=2)\n",
    "mlp_cv_model= gs.fit(x_train,y_train)\n",
    "print(mlp_cv_model)\n",
    "print(mlp_cv_model.best_params_) "
   ]
  },
  {
   "cell_type": "code",
   "execution_count": 75,
   "metadata": {},
   "outputs": [
    {
     "name": "stdout",
     "output_type": "stream",
     "text": [
      "Mlp tuned accuracy:  0.8811777076761304\n",
      "Mlp confusion matrix:\n",
      "[[1030  308]\n",
      " [ 144 2322]]\n",
      "Mlp classification report:\n",
      "              precision    recall  f1-score   support\n",
      "\n",
      "           0       0.88      0.77      0.82      1338\n",
      "           1       0.88      0.94      0.91      2466\n",
      "\n",
      "    accuracy                           0.88      3804\n",
      "   macro avg       0.88      0.86      0.87      3804\n",
      "weighted avg       0.88      0.88      0.88      3804\n",
      "\n"
     ]
    }
   ],
   "source": [
    "#Mlp - model tuning\n",
    "mlp= MLPClassifier(solver='lbfgs',\n",
    "                   activation='logistic',\n",
    "                   alpha=0.03,\n",
    "                   hidden_layer_sizes=(10,10))\n",
    "\n",
    "mlp_tuned= mlp.fit(x_train,y_train)\n",
    "predictions= mlp_tuned.predict(x_test)\n",
    "dogruluk= accuracy_score(y_test,predictions)\n",
    "print(\"Mlp tuned accuracy: \", dogruluk)\n",
    "print(\"Mlp confusion matrix:\")\n",
    "print(confusion_matrix(y_test,predictions))\n",
    "print(\"Mlp classification report:\")\n",
    "print(classification_report(y_test,predictions))"
   ]
  },
  {
   "cell_type": "code",
   "execution_count": 81,
   "metadata": {},
   "outputs": [
    {
     "name": "stdout",
     "output_type": "stream",
     "text": [
      "KNeighborsClassifier:\n",
      "Accuracy:84.4637%\n",
      "MLPClassifier:\n",
      "Accuracy:88.1178%\n"
     ]
    }
   ],
   "source": [
    "Siniflandirici=[knn_tuned,\n",
    "                mlp_tuned]\n",
    "\n",
    "\n",
    "for model in Siniflandirici:\n",
    "    isimler=model.__class__.__name__\n",
    "    y_pred=model.predict(x_test)\n",
    "    acc=accuracy_score(y_test,y_pred)\n",
    "    print(isimler +\":\")\n",
    "    print(\"Accuracy:{:.4%}\".format(acc))"
   ]
  },
  {
   "cell_type": "code",
   "execution_count": 84,
   "metadata": {},
   "outputs": [
    {
     "data": {
      "image/png": "[encoded data removed]",
      "text/plain": [
       "<Figure size 432x288 with 1 Axes>"
      ]
     },
     "metadata": {
      "needs_background": "light"
     },
     "output_type": "display_data"
    }
   ],
   "source": [
    "\n",
    "sonuc=[]\n",
    "sonuclar=pd.DataFrame(columns=[\"Siniflandirici\",\"Accuracy\"])\n",
    "\n",
    "for model in Siniflandirici:\n",
    "    isimler=model.__class__.__name__\n",
    "    y_pred=model.predict(x_test)\n",
    "    acc=accuracy_score(y_test,y_pred)\n",
    "    sonuc=pd.DataFrame([[isimler,acc*100]],columns=[\"Siniflandirici\",\"Accuracy\"])\n",
    "    sonuclar=sonuclar.append(sonuc)\n",
    "    \n",
    "    \n",
    "    sns.barplot(x=\"Accuracy\",y=\"Siniflandirici\",data=sonuclar,color=\"m\")\n",
    "    plt.xlabel(\"Accuracy %\")\n",
    "    plt.title(\"Modellerin Dogruluk Oranı\");"
   ]
  },
  {
   "cell_type": "code",
   "execution_count": 112,
   "metadata": {
    "scrolled": true
   },
   "outputs": [
    {
     "name": "stdout",
     "output_type": "stream",
     "text": [
      "Epoch 1/15\n",
      "1218/1218 [==============================] - 2s 1ms/step - loss: 0.1237 - accuracy: 0.8331 - val_loss: 0.1163 - val_accuracy: 0.8486\n",
      "Epoch 2/15\n",
      "1218/1218 [==============================] - 2s 1ms/step - loss: 0.1053 - accuracy: 0.8586 - val_loss: 0.1127 - val_accuracy: 0.8472\n",
      "Epoch 3/15\n",
      "1218/1218 [==============================] - 2s 1ms/step - loss: 0.1006 - accuracy: 0.8640 - val_loss: 0.1104 - val_accuracy: 0.8495\n",
      "Epoch 4/15\n",
      "1218/1218 [==============================] - 2s 1ms/step - loss: 0.0984 - accuracy: 0.8685 - val_loss: 0.1090 - val_accuracy: 0.8482\n",
      "Epoch 5/15\n",
      "1218/1218 [==============================] - 2s 1ms/step - loss: 0.0974 - accuracy: 0.8693 - val_loss: 0.1061 - val_accuracy: 0.8597\n",
      "Epoch 6/15\n",
      "1218/1218 [==============================] - 2s 1ms/step - loss: 0.0963 - accuracy: 0.8711 - val_loss: 0.1054 - val_accuracy: 0.8532\n",
      "Epoch 7/15\n",
      "1218/1218 [==============================] - 2s 1ms/step - loss: 0.0955 - accuracy: 0.8718 - val_loss: 0.1046 - val_accuracy: 0.8581\n",
      "Epoch 8/15\n",
      "1218/1218 [==============================] - 2s 1ms/step - loss: 0.0946 - accuracy: 0.8726 - val_loss: 0.1071 - val_accuracy: 0.8548\n",
      "Epoch 9/15\n",
      "1218/1218 [==============================] - 2s 1ms/step - loss: 0.0936 - accuracy: 0.8747 - val_loss: 0.1050 - val_accuracy: 0.8578\n",
      "Epoch 10/15\n",
      "1218/1218 [==============================] - 2s 1ms/step - loss: 0.0933 - accuracy: 0.8762 - val_loss: 0.1042 - val_accuracy: 0.8594\n",
      "Epoch 11/15\n",
      "1218/1218 [==============================] - 2s 2ms/step - loss: 0.0922 - accuracy: 0.8782 - val_loss: 0.1031 - val_accuracy: 0.8568\n",
      "Epoch 12/15\n",
      "1218/1218 [==============================] - 2s 1ms/step - loss: 0.0923 - accuracy: 0.8780 - val_loss: 0.1054 - val_accuracy: 0.8564\n",
      "Epoch 13/15\n",
      "1218/1218 [==============================] - 2s 1ms/step - loss: 0.0914 - accuracy: 0.8798 - val_loss: 0.1054 - val_accuracy: 0.8528\n",
      "Epoch 14/15\n",
      "1218/1218 [==============================] - 2s 1ms/step - loss: 0.0908 - accuracy: 0.8772 - val_loss: 0.1023 - val_accuracy: 0.8578\n",
      "Epoch 15/15\n",
      "1218/1218 [==============================] - 2s 1ms/step - loss: 0.0901 - accuracy: 0.8800 - val_loss: 0.1024 - val_accuracy: 0.8601\n",
      "476/476 [==============================] - 1s 1ms/step - loss: 0.0894 - accuracy: 0.8808\n",
      "Training Accuracy: 0.8808\n",
      "Testing Accuracy:  0.8783\n"
     ]
    }
   ],
   "source": [
    "#MLP-katmanlı\n",
    "import keras\n",
    "from keras.models import Sequential\n",
    "from keras.layers import Dense\n",
    "classifier = Sequential()\n",
    "classifier.add(Dense(units = 128, kernel_initializer = 'uniform', activation = 'relu', input_dim = 10,)) \n",
    "classifier.add(Dense(units = 64, kernel_initializer = 'uniform', activation = 'relu'))\n",
    "classifier.add(Dense(units = 1, kernel_initializer = 'uniform', activation = 'sigmoid'))\n",
    "classifier.compile(optimizer = 'adam', loss = 'mean_squared_error', metrics = ['accuracy'])\n",
    "history = classifier.fit(x_train, y_train, validation_split=0.20, batch_size = 10, epochs = 15)\n",
    "\n",
    "#Accuracy\n",
    "loss, accuracy = classifier.evaluate(x_train, y_train, verbose=True)\n",
    "print(\"Training Accuracy: {:.4f}\".format(accuracy))\n",
    "loss, accuracy = classifier.evaluate(x_test, y_test, verbose=False)\n",
    "print(\"Testing Accuracy:  {:.4f}\".format(accuracy))"
   ]
  },
  {
   "cell_type": "code",
   "execution_count": 113,
   "metadata": {},
   "outputs": [
    {
     "name": "stdout",
     "output_type": "stream",
     "text": [
      "dict_keys(['loss', 'accuracy', 'val_loss', 'val_accuracy'])\n"
     ]
    },
    {
     "data": {
      "image/png": "[encoded data removed]",
      "text/plain": [
       "<Figure size 432x288 with 1 Axes>"
      ]
     },
     "metadata": {
      "needs_background": "light"
     },
     "output_type": "display_data"
    },
    {
     "data": {
      "image/png": "[encoded data removed]",
      "text/plain": [
       "<Figure size 432x288 with 1 Axes>"
      ]
     },
     "metadata": {
      "needs_background": "light"
     },
     "output_type": "display_data"
    }
   ],
   "source": [
    "\n",
    "\n",
    "#Grafilk çizdirilir\n",
    "import matplotlib.pyplot as plt \n",
    "import numpy as np \n",
    "print(history.history.keys())\n",
    "plt.plot(history.history['accuracy'])\n",
    "plt.plot(history.history['val_accuracy'])\n",
    "plt.title('model accuracy')\n",
    "plt.ylabel('accuracy')\n",
    "plt.xlabel('epoch')\n",
    "plt.legend(['train', 'test'], loc='upper left')\n",
    "plt.show()\n",
    "plt.plot(history.history['loss'])\n",
    "plt.plot(history.history['val_loss'])\n",
    "plt.title('model loss')\n",
    "plt.ylabel('loss')\n",
    "plt.xlabel('epoch')\n",
    "plt.legend(['train', 'test'], loc='upper left')\n",
    "plt.show()\n",
    "\n"
   ]
  },
  {
   "cell_type": "code",
   "execution_count": null,
   "metadata": {},
   "outputs": [],
   "source": []
  }
 ],
 "metadata": {
  "kernelspec": {
   "display_name": "Python 3",
   "language": "python",
   "name": "python3"
  },
  "language_info": {
   "codemirror_mode": {
    "name": "ipython",
    "version": 3
   },
   "file_extension": ".py",
   "mimetype": "text/x-python",
   "name": "python",
   "nbconvert_exporter": "python",
   "pygments_lexer": "ipython3",
   "version": "3.7.6"
  }
 },
 "nbformat": 4,
 "nbformat_minor": 4
}
